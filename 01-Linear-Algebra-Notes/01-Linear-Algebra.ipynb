{
 "cells": [
  {
   "cell_type": "markdown",
   "metadata": {},
   "source": [
    "## 1 Vectors and Vector Spaces\n",
    "Vector:\n",
    "- can be added together\n",
    "- multiplied by scalars to produce another object of the same kind\n",
    "Example:\n",
    "- Geometric vectors\n",
    "- Polynomials\n",
    "- Audio signals\n",
    "- Elements of $R^n$ (tuples of n real numbers)\n",
    "![image.png](https://obsidian-1309699899.cos.ap-nanjing.myqcloud.com/202505072355774.png)"
   ]
  },
  {
   "cell_type": "markdown",
   "metadata": {},
   "source": [
    "## 2 Systems of Linear Equations\n",
    "\n",
    "$$\n",
    "\\begin{bmatrix}\n",
    "a_{11} \\\\\n",
    "\\vdots \\\\\n",
    "a_{m1}\n",
    "\\end{bmatrix} x_1 +\n",
    "\\begin{bmatrix}\n",
    "a_{12} \\\\\n",
    "\\vdots \\\\\n",
    "a_{m2}\n",
    "\\end{bmatrix} x_2 +\n",
    "\\cdots +\n",
    "\\begin{bmatrix}\n",
    "a_{1n} \\\\\n",
    "\\vdots \\\\\n",
    "a_{mn}\n",
    "\\end{bmatrix} x_n =\n",
    "\\begin{bmatrix}\n",
    "a_{11} & \\cdots & a_{1n} \\\\\n",
    "\\vdots & \\ddots & \\vdots \\\\\n",
    "a_{m1} & \\cdots & a_{mn}\n",
    "\\end{bmatrix}\n",
    "\\begin{bmatrix}\n",
    "x_1 \\\\\n",
    "\\vdots \\\\\n",
    "x_n\n",
    "\\end{bmatrix}\n",
    "=\n",
    "\\begin{bmatrix}\n",
    "b_1 \\\\\n",
    "\\vdots \\\\\n",
    "b_m\n",
    "\\end{bmatrix}\n",
    "$$\n"
   ]
  },
  {
   "cell_type": "markdown",
   "metadata": {},
   "source": [
    "## 3 Matrices\n",
    "### 3.1 Matrix Addition and Multiplication\n"
   ]
  },
  {
   "cell_type": "code",
   "execution_count": 12,
   "metadata": {},
   "outputs": [
    {
     "name": "stdout",
     "output_type": "stream",
     "text": [
      "Element-wise addition (A + B):\n",
      " [[4 4 4]\n",
      " [4 4 4]]\n",
      "Matrix multiplication (A · C):\n",
      " [[2 3]\n",
      " [2 5]]\n",
      "Matrix multiplication (C · A):\n",
      " [[ 6  4  2]\n",
      " [-2  0  2]\n",
      " [ 3  2  1]]\n"
     ]
    }
   ],
   "source": [
    "import numpy as np\n",
    "# Matrix addiction\n",
    "A = np.array([[1, 2, 3],\n",
    "              [3, 2, 1]])  # Matrix A (2x3)\n",
    "B = np.array([[3, 2, 1],\n",
    "              [1, 2, 3]])  # Matrix B (2x3)\n",
    "\n",
    "# Element-wise addition of matrices A and B\n",
    "sum_result = A + B\n",
    "print(\"Element-wise addition (A + B):\\n\", sum_result)\n",
    "\n",
    "# Define a 3x2 matrix for matrix multiplication\n",
    "C = np.array([[0, 2],\n",
    "              [1, -1],\n",
    "              [0, 1]])  # Matrix C (3x2)\n",
    "\n",
    "# Matrix multiplication: A (2x3) · C (3x2) → result is 2x2\n",
    "dot_result1 = np.dot(A, C)\n",
    "print(\"Matrix multiplication (A · C):\\n\", dot_result1)\n",
    "\n",
    "# Manual calculation for verification:\n",
    "# A = [[1, 2, 3],\n",
    "#      [3, 2, 1]]\n",
    "# C = [[0, 2],\n",
    "#      [1, -1],\n",
    "#      [0, 1]]\n",
    "# A·C =\n",
    "# Row1: [1*0 + 2*1 + 3*0, 1*2 + 2*(-1) + 3*1] = [2, 3]\n",
    "# Row2: [3*0 + 2*1 + 1*0, 3*2 + 2*(-1) + 1*1] = [2, 5]\n",
    "\n",
    "# Matrix multiplication: C (3x2) · A (2x3) → result is 3x3\n",
    "dot_result2 = np.dot(C, A)\n",
    "print(\"Matrix multiplication (C · A):\\n\", dot_result2)\n",
    "\n",
    "# Manual calculation of C · A:\n",
    "# C = [[0, 2],\n",
    "#      [1, -1],\n",
    "#      [0, 1]]\n",
    "# A = [[1, 2, 3],\n",
    "#      [3, 2, 1]]\n",
    "# C·A =\n",
    "# Row1: [0*1 + 2*3, 0*2 + 2*2, 0*3 + 2*1]       = [6, 4, 2]\n",
    "# Row2: [1*1 + (-1)*3, 1*2 + (-1)*2, 1*3 + (-1)*1] = [-2, 0, 2]\n",
    "# Row3: [0*1 + 1*3, 0*2 + 1*2, 0*3 + 1*1]       = [3, 2, 1]"
   ]
  },
  {
   "cell_type": "markdown",
   "metadata": {},
   "source": [
    "## 3.2 Identity Matrix\n",
    "**Definition:**\n",
    "The **identity matrix** of size $n \\times n$, denoted by $I_n$, is a square matrix where all the elements on the main diagonal are $1$, and all other elements are $0$.\n",
    "\n",
    "Mathematically, the element in the $i$-th row and $j$-th column of $I_n$ is given by the Kronecker delta, $\\delta_{ij}$:\n",
    "$$(I_n)_{ij} = \\delta_{ij} = \\begin{cases} 1 & \\text{if } i = j \\\\ 0 & \\text{if } i \\neq j \\end{cases}$$\n",
    "\n",
    "![image.png](https://obsidian-1309699899.cos.ap-nanjing.myqcloud.com/202505081605400.png)\n",
    "\n",
    "**Properties:**\n",
    "\n",
    "![20250508224653](https://obsidian-1309699899.cos.ap-nanjing.myqcloud.com/20250508224653.png)\n",
    "\n",
    "## 3.3 Inverse matrix\n",
    "**Defination:**\n",
    "\n",
    "For a square $n \\times n$ matrix $A$, an **inverse matrix**, denoted by $A^{-1}$, is an $n \\times n$ matrix that satisfies the following condition:\n",
    "\n",
    "$$A A^{-1} = I_n \\quad \\text{and} \\quad A^{-1} A = I_n$$\n",
    "If such a matrix $A^{-1}$ exists, the matrix $A$ is said to be **invertible** or **non-singular**.\n",
    "**Remark:** Not all square matrices have an inverse. A square matrix that does not have an inverse is called **singular**.\n",
    "\n",
    "![20250508230648](https://obsidian-1309699899.cos.ap-nanjing.myqcloud.com/20250508230648.png)\n",
    "\n",
    "So, A 2x2 matrix is invertible, only if $a_{11}a_{22} - a_{12}a_{21} \\neq 0$.\n",
    "\n",
    "**Properties:**\n",
    "\n",
    "![20250508231532](https://obsidian-1309699899.cos.ap-nanjing.myqcloud.com/20250508231532.png)\n",
    "\n",
    "## 3.4 Multiplication by a Scalar\n",
    "\n",
    "![20250508231741](https://obsidian-1309699899.cos.ap-nanjing.myqcloud.com/20250508231741.png)\n"
   ]
  },
  {
   "cell_type": "code",
   "execution_count": null,
   "metadata": {},
   "outputs": [],
   "source": []
  }
 ],
 "metadata": {
  "kernelspec": {
   "display_name": ".venv",
   "language": "python",
   "name": "python3"
  },
  "language_info": {
   "codemirror_mode": {
    "name": "ipython",
    "version": 3
   },
   "file_extension": ".py",
   "mimetype": "text/x-python",
   "name": "python",
   "nbconvert_exporter": "python",
   "pygments_lexer": "ipython3",
   "version": "3.13.3"
  }
 },
 "nbformat": 4,
 "nbformat_minor": 2
}
