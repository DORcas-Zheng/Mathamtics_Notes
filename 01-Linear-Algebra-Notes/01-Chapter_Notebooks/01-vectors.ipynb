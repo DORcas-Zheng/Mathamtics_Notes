{
 "cells": [
  {
   "cell_type": "markdown",
   "metadata": {},
   "source": [
    "## Vector Operations\n",
    "Vector:\n",
    "- can be added together\n",
    "- multiplied by scalars to produce another object of the same kind\n",
    "Example:\n",
    "- Geometric vectors\n",
    "- Polynomials\n",
    "- Audio signals\n",
    "- Elements of $R^n$ (tuples of n real numbers)\n",
    "![image.png](attachment:image.png)"
   ]
  },
  {
   "cell_type": "code",
   "execution_count": 2,
   "metadata": {},
   "outputs": [
    {
     "name": "stdout",
     "output_type": "stream",
     "text": [
      "Vector addition result:  [4 1]\n",
      "Scalar multiplication result (2v):  [2 4]\n",
      "Dot product result:  1\n"
     ]
    }
   ],
   "source": [
    "import numpy as np\n",
    "\n",
    "# Define input vectors\n",
    "v = np.array([1, 2])  # Vector v in 2D space\n",
    "w = np.array([3, -1])  # Vector w in 2D space\n",
    "\n",
    "# Vector addition (element-wise sum)\n",
    "print(\"Vector addition result: \", v + w)  # Expected output: [4 1]\n",
    "\n",
    "# Scalar multiplication (scale vector by constant factor)\n",
    "print(\"Scalar multiplication result (2v): \", 2 * v)  # Expected output: [2 4]\n",
    "\n",
    "# Dot product (sum of element-wise products)\n",
    "print(\"Dot product result: \", np.dot(v, w))  # Expected output: 1*3 + 2*(-2) = 1\n"
   ]
  },
  {
   "cell_type": "code",
   "execution_count": null,
   "metadata": {},
   "outputs": [],
   "source": []
  },
  {
   "cell_type": "markdown",
   "metadata": {},
   "source": [
    "## 1.1 Systems of Linear Equations\n",
    "\n",
    "$$\n",
    "\\begin{bmatrix}\n",
    "a_{11} \\\\\n",
    "\\vdots \\\\\n",
    "a_{m1}\n",
    "\\end{bmatrix} x_1 +\n",
    "\\begin{bmatrix}\n",
    "a_{12} \\\\\n",
    "\\vdots \\\\\n",
    "a_{m2}\n",
    "\\end{bmatrix} x_2 +\n",
    "\\cdots +\n",
    "\\begin{bmatrix}\n",
    "a_{1n} \\\\\n",
    "\\vdots \\\\\n",
    "a_{mn}\n",
    "\\end{bmatrix} x_n =\n",
    "\\begin{bmatrix}\n",
    "a_{11} & \\cdots & a_{1n} \\\\\n",
    "\\vdots & \\ddots & \\vdots \\\\\n",
    "a_{m1} & \\cdots & a_{mn}\n",
    "\\end{bmatrix}\n",
    "\\begin{bmatrix}\n",
    "x_1 \\\\\n",
    "\\vdots \\\\\n",
    "x_n\n",
    "\\end{bmatrix}\n",
    "=\n",
    "\\begin{bmatrix}\n",
    "b_1 \\\\\n",
    "\\vdots \\\\\n",
    "b_m\n",
    "\\end{bmatrix}\n",
    "$$\n"
   ]
  }
 ],
 "metadata": {
  "kernelspec": {
   "display_name": ".venv",
   "language": "python",
   "name": "python3"
  },
  "language_info": {
   "codemirror_mode": {
    "name": "ipython",
    "version": 3
   },
   "file_extension": ".py",
   "mimetype": "text/x-python",
   "name": "python",
   "nbconvert_exporter": "python",
   "pygments_lexer": "ipython3",
   "version": "3.13.3"
  }
 },
 "nbformat": 4,
 "nbformat_minor": 2
}
