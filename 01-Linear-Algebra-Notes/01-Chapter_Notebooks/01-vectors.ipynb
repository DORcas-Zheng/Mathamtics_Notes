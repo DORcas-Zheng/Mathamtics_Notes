{
 "cells": [
  {
   "cell_type": "markdown",
   "metadata": {},
   "source": [
    "## Vector Operations"
   ]
  },
  {
   "cell_type": "code",
   "execution_count": null,
   "metadata": {},
   "outputs": [],
   "source": [
    "import numpy as np\n",
    "v = np.array(1,2)\n",
    "w = np.array(3,-1)\n",
    "\n",
    "## Addition\n",
    "print(\"Vector addiction: \", v + w)\n",
    "## Scaling\n",
    "print(\"Vector Scaling: \", 2 * v)\n",
    "## Dot\n",
    "print(\"Vector dot: \", np.dot(v, w))\n",
    "\n"
   ]
  },
  {
   "cell_type": "code",
   "execution_count": null,
   "metadata": {},
   "outputs": [],
   "source": []
  }
 ],
 "metadata": {
  "language_info": {
   "name": "python"
  }
 },
 "nbformat": 4,
 "nbformat_minor": 2
}
